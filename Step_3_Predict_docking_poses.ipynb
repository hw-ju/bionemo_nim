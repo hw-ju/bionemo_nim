{
  "cells": [
    {
      "cell_type": "markdown",
      "id": "c6e35a705fb30113",
      "metadata": {
        "id": "c6e35a705fb30113"
      },
      "source": [
        "# Step 3. Predict docking poses"
      ]
    },
    {
      "cell_type": "markdown",
      "id": "cXcxRpGVDqG6",
      "metadata": {
        "id": "cXcxRpGVDqG6"
      },
      "source": [
        "## 3.1 Set up environement ##"
      ]
    },
    {
      "cell_type": "code",
      "execution_count": null,
      "id": "qirPfKJlTPpY",
      "metadata": {
        "id": "qirPfKJlTPpY"
      },
      "outputs": [],
      "source": [
        "!pip install pandas numpy matplotlib loguru py3dmol rdkit ipywidgets"
      ]
    },
    {
      "cell_type": "code",
      "execution_count": null,
      "id": "d697a5b6aa30f941",
      "metadata": {
        "ExecuteTime": {
          "end_time": "2024-04-25T03:59:30.689886Z",
          "start_time": "2024-04-25T03:59:30.194917Z"
        },
        "id": "d697a5b6aa30f941"
      },
      "outputs": [],
      "source": [
        "import time\n",
        "from loguru import logger\n",
        "import os, shutil\n",
        "from google.colab import files\n",
        "import zipfile\n",
        "import requests\n",
        "from google.colab import userdata\n",
        "import json\n",
        "import py3Dmol\n",
        "from rdkit import Chem\n",
        "import ipywidgets as widgets\n",
        "from IPython.display import display\n",
        "import glob\n",
        "import random"
      ]
    },
    {
      "cell_type": "code",
      "execution_count": null,
      "id": "cbC_bnuaS7ap",
      "metadata": {
        "id": "cbC_bnuaS7ap"
      },
      "outputs": [],
      "source": [
        "def prepare_output_directory(output):\n",
        "    \"\"\"\n",
        "    Prepare the output directory\n",
        "    output: str, the output directory\n",
        "    return: None\n",
        "    \"\"\"\n",
        "    # overwrite the output directory\n",
        "    # delete the output directory if it exists\n",
        "    if os.path.exists(output):\n",
        "        shutil.rmtree(output)\n",
        "    os.makedirs(output)"
      ]
    },
    {
      "cell_type": "markdown",
      "id": "wy-mA1exEYLK",
      "metadata": {
        "id": "wy-mA1exEYLK"
      },
      "source": [
        "## 3.2 Set up directories"
      ]
    },
    {
      "cell_type": "markdown",
      "id": "RplCQFEwTpRt",
      "metadata": {
        "id": "RplCQFEwTpRt"
      },
      "source": [
        "Upload the structure file for the predicted target protein"
      ]
    },
    {
      "cell_type": "code",
      "execution_count": null,
      "id": "zAsUUM-LT49Y",
      "metadata": {
        "id": "zAsUUM-LT49Y"
      },
      "outputs": [],
      "source": [
        "protein_dir = \"/content/output/esmfold_result\"\n",
        "prepare_output_directory(protein_dir)"
      ]
    },
    {
      "cell_type": "code",
      "execution_count": null,
      "id": "pd_hOHpmXCew",
      "metadata": {
        "id": "pd_hOHpmXCew"
      },
      "outputs": [],
      "source": [
        "# choose to upload \"predicted_protein.pdb\" which was downloaded at the end of Step 1.\n",
        "uploaded = files.upload()"
      ]
    },
    {
      "cell_type": "code",
      "execution_count": null,
      "id": "jTKTfDOoXGKh",
      "metadata": {
        "id": "jTKTfDOoXGKh"
      },
      "outputs": [],
      "source": [
        "# Move the uploaded file to the target folder\n",
        "for filename in uploaded.keys():\n",
        "    !mv \"{filename}\" \"{protein_dir}/{filename}\""
      ]
    },
    {
      "cell_type": "code",
      "execution_count": null,
      "id": "8ZyizkRmBCnV",
      "metadata": {
        "id": "8ZyizkRmBCnV"
      },
      "outputs": [],
      "source": [
        "# file path of the predicted target protein\n",
        "protein_file_path = os.path.join(protein_dir, list(uploaded.keys())[0])\n",
        "print(protein_file_path)"
      ]
    },
    {
      "cell_type": "markdown",
      "id": "ZJcpjfbUTy49",
      "metadata": {
        "id": "ZJcpjfbUTy49"
      },
      "source": [
        "Upload ligand files"
      ]
    },
    {
      "cell_type": "code",
      "execution_count": null,
      "id": "bRFGzfOsUCBO",
      "metadata": {
        "id": "bRFGzfOsUCBO"
      },
      "outputs": [],
      "source": [
        "ligand_dir = \"/content/output/molmim_result\"\n",
        "prepare_output_directory(ligand_dir)"
      ]
    },
    {
      "cell_type": "code",
      "execution_count": null,
      "id": "UgRu2sVvXzSx",
      "metadata": {
        "id": "UgRu2sVvXzSx"
      },
      "outputs": [],
      "source": [
        "# choose to upload clean_mol.zip which wasdownloaded at the end of Step 2\n",
        "uploaded = files.upload()"
      ]
    },
    {
      "cell_type": "code",
      "execution_count": null,
      "id": "37XEL22eYXNA",
      "metadata": {
        "id": "37XEL22eYXNA"
      },
      "outputs": [],
      "source": [
        "zip_filename = list(uploaded.keys())[0]\n",
        "print(zip_filename)"
      ]
    },
    {
      "cell_type": "code",
      "execution_count": null,
      "id": "XSFzoI_d6o0W",
      "metadata": {
        "id": "XSFzoI_d6o0W"
      },
      "outputs": [],
      "source": [
        "with zipfile.ZipFile(zip_filename, 'r') as zip_ref:\n",
        "    zip_ref.extractall(ligand_dir)"
      ]
    },
    {
      "cell_type": "code",
      "execution_count": null,
      "id": "Dv_SDsQDbUCc",
      "metadata": {
        "id": "Dv_SDsQDbUCc"
      },
      "outputs": [],
      "source": [
        "!ls {ligand_dir}"
      ]
    },
    {
      "cell_type": "markdown",
      "id": "782a19b86c9b4196",
      "metadata": {
        "id": "782a19b86c9b4196"
      },
      "source": [
        "Set up output directory for docking"
      ]
    },
    {
      "cell_type": "code",
      "execution_count": null,
      "id": "cfc852027a85e810",
      "metadata": {
        "ExecuteTime": {
          "end_time": "2024-04-25T03:59:31.312563Z",
          "start_time": "2024-04-25T03:59:31.309546Z"
        },
        "id": "cfc852027a85e810"
      },
      "outputs": [],
      "source": [
        "docking_dir = \"/content/output/diffdock_result\"\n",
        "prepare_output_directory(docking_dir)"
      ]
    },
    {
      "cell_type": "markdown",
      "id": "ccf7ef02816593bc",
      "metadata": {
        "id": "ccf7ef02816593bc"
      },
      "source": [
        "## 3.3 Predict"
      ]
    },
    {
      "cell_type": "markdown",
      "id": "GRUPfiy3GYBS",
      "metadata": {
        "id": "GRUPfiy3GYBS"
      },
      "source": [
        "Load ligands"
      ]
    },
    {
      "cell_type": "code",
      "execution_count": null,
      "id": "964aeac9eecfb857",
      "metadata": {
        "ExecuteTime": {
          "end_time": "2024-04-25T03:36:58.583380Z",
          "start_time": "2024-04-25T03:36:58.578018Z"
        },
        "id": "964aeac9eecfb857"
      },
      "outputs": [],
      "source": [
        "# Load all SDF files from the specified directory\n",
        "sdf_files = [f for f in os.listdir(ligand_dir) if f.endswith(\".sdf\")]\n",
        "\n",
        "# Sort ligand files based on the numeric part in the filename (molecule_0, molecule_1, molecule_2 ....)\n",
        "sdf_files.sort(key=lambda x: int(x.split(\"_\")[1].split(\".\")[0]))\n",
        "\n",
        "# Add a prefix directory path to each file in sdf_files\n",
        "sdf_files = [os.path.join(ligand_dir, f) for f in sdf_files]\n",
        "\n",
        "# Get name of the sdf files\n",
        "ligand_names = [os.path.basename(f).split(\".\")[0] for f in sdf_files]\n",
        "\n",
        "print(sdf_files)\n",
        "print(ligand_names)"
      ]
    },
    {
      "cell_type": "code",
      "execution_count": null,
      "id": "Dc5LglFoPdpV",
      "metadata": {
        "id": "Dc5LglFoPdpV"
      },
      "outputs": [],
      "source": [
        "# For demo purpose, we'll only use the first two ligands\n",
        "sdf_files = sdf_files[:2]\n",
        "ligand_names = ligand_names[:2]\n",
        "print(sdf_files)\n",
        "print(ligand_names)"
      ]
    },
    {
      "cell_type": "markdown",
      "id": "CqiHO8B9Gbiq",
      "metadata": {
        "id": "CqiHO8B9Gbiq"
      },
      "source": [
        "Set up API_Key"
      ]
    },
    {
      "cell_type": "code",
      "execution_count": null,
      "id": "nN6QfnkkCFaE",
      "metadata": {
        "id": "nN6QfnkkCFaE"
      },
      "outputs": [],
      "source": [
        "API_KEY = userdata.get('API_KEY')\n",
        "print(API_KEY)\n",
        "header_auth = f\"Bearer {API_KEY}\"\n",
        "print(header_auth)"
      ]
    },
    {
      "cell_type": "markdown",
      "id": "e0bKLb4iGgma",
      "metadata": {
        "id": "e0bKLb4iGgma"
      },
      "source": [
        " Upload the target protein to AWS S3 Storage"
      ]
    },
    {
      "cell_type": "code",
      "execution_count": null,
      "id": "1I-ecOZ0SY-T",
      "metadata": {
        "id": "1I-ecOZ0SY-T"
      },
      "outputs": [],
      "source": [
        "# get asset-uploading URL & upload the asset to AWS S3 storag\n",
        "def _upload_asset(input):\n",
        "    assets_url = \"https://api.nvcf.nvidia.com/v2/nvcf/assets\"\n",
        "\n",
        "    headers = {\n",
        "        \"Authorization\": header_auth,\n",
        "        \"Content-Type\": \"application/json\",\n",
        "        \"accept\": \"application/json\",\n",
        "    }\n",
        "\n",
        "    s3_headers = {\n",
        "        \"x-amz-meta-nvcf-asset-description\": \"diffdock-file\",\n",
        "        \"content-type\": \"text/plain\",\n",
        "    }\n",
        "\n",
        "    payload = {\n",
        "        \"contentType\": \"text/plain\",\n",
        "        \"description\": \"diffdock-file\"\n",
        "    }\n",
        "\n",
        "    response = requests.post(\n",
        "        assets_url, headers=headers, json=payload, timeout=30\n",
        "    )\n",
        "\n",
        "    response.raise_for_status()\n",
        "\n",
        "    asset_url = response.json()[\"uploadUrl\"]\n",
        "    asset_id = response.json()[\"assetId\"]\n",
        "\n",
        "    response = requests.put(\n",
        "        asset_url,\n",
        "        data=input,\n",
        "        headers=s3_headers,\n",
        "        timeout=300,\n",
        "    )\n",
        "\n",
        "    response.raise_for_status()\n",
        "    return asset_id"
      ]
    },
    {
      "cell_type": "code",
      "execution_count": null,
      "id": "YK0HCSStCk5N",
      "metadata": {
        "id": "YK0HCSStCk5N"
      },
      "outputs": [],
      "source": [
        "invoke_url = \"https://health.api.nvidia.com/v1/biology/mit/diffdock\""
      ]
    },
    {
      "cell_type": "code",
      "execution_count": null,
      "id": "jhC2arwVD2dr",
      "metadata": {
        "id": "jhC2arwVD2dr"
      },
      "outputs": [],
      "source": [
        "# get asset-uploading URL & upload assets for target protein\n",
        "with open(protein_file_path, \"r\") as file:\n",
        "    pdb_content = file.read()\n",
        "    protein_id = _upload_asset(pdb_content)\n",
        "print(protein_id)"
      ]
    },
    {
      "cell_type": "markdown",
      "id": "wuZTtRORGtTZ",
      "metadata": {
        "id": "wuZTtRORGtTZ"
      },
      "source": [
        "Main loop to iterate over all ligands to generate docking poses"
      ]
    },
    {
      "cell_type": "code",
      "execution_count": null,
      "id": "e2a84403b3ffc7e8",
      "metadata": {
        "ExecuteTime": {
          "end_time": "2024-04-25T03:39:08.435139Z",
          "start_time": "2024-04-25T03:37:06.175269Z"
        },
        "id": "e2a84403b3ffc7e8"
      },
      "outputs": [],
      "source": [
        "# Iterate over ligands' SDF files\n",
        "for ligand_file_path, ligand_name in zip(sdf_files, ligand_names):\n",
        "    print(f\"************ {ligand_name} ****************\")\n",
        "    # get asset-uploading URL & upload assets for ligand\n",
        "    with open(ligand_file_path, \"r\") as file:\n",
        "        sdf_content = file.read()\n",
        "        ligand_id = _upload_asset(sdf_content)\n",
        "    print(f\"ligand_id: {ligand_id}\")\n",
        "\n",
        "    # DiffDock inference\n",
        "    headers = {\n",
        "        \"Content-Type\": \"application/json\",\n",
        "        \"NVCF-INPUT-ASSET-REFERENCES\": \",\".join([protein_id, ligand_id]),\n",
        "        \"Authorization\": header_auth\n",
        "    }\n",
        "\n",
        "    payload = {\n",
        "        \"ligand\": ligand_id,\n",
        "        \"ligand_file_type\": \"sdf\",\n",
        "        \"protein\": protein_id,\n",
        "        \"num_poses\": 3,\n",
        "        \"time_divisions\": 20,\n",
        "        \"steps\": 18,\n",
        "        \"save_trajectory\": False,\n",
        "        \"is_staged\": True\n",
        "    }\n",
        "\n",
        "    start = time.time()\n",
        "    response = requests.post(invoke_url, headers=headers, json=payload)\n",
        "    end = time.time()\n",
        "    logger.debug(f\"{ligand_name} took {end - start:.2f} seconds\")\n",
        "\n",
        "    response.raise_for_status()\n",
        "\n",
        "    result = response.json()\n",
        "\n",
        "    # save result to output.json\n",
        "    docking_ligand_dir = os.path.join(docking_dir, ligand_name)\n",
        "    prepare_output_directory(docking_ligand_dir)\n",
        "    with open(f\"{docking_ligand_dir}/output.json\", \"w\") as f:\n",
        "        json.dump(result, f)\n",
        "\n",
        "    # save ligand positions\n",
        "    for i, ligand_geometry in enumerate(result[\"ligand_positions\"]):\n",
        "        with open(\"{}/pose_{}_confidence_{:.2f}.sdf\".format(docking_ligand_dir, i, result[\"position_confidence\"][i]), \"w\") as f:\n",
        "            f.write(ligand_geometry)"
      ]
    },
    {
      "cell_type": "markdown",
      "id": "b7d5abe80903ccd6",
      "metadata": {
        "id": "b7d5abe80903ccd6"
      },
      "source": [
        "## 3.4 Visualize the docking poses"
      ]
    },
    {
      "cell_type": "code",
      "execution_count": null,
      "id": "ab39d59253714c95",
      "metadata": {
        "ExecuteTime": {
          "end_time": "2024-04-25T03:39:15.272343Z",
          "start_time": "2024-04-25T03:39:15.264913Z"
        },
        "id": "ab39d59253714c95"
      },
      "outputs": [],
      "source": [
        "# assume we select molecule_0\n",
        "ligand_name = \"molecule_0\"\n",
        "\n",
        "docking_ligand_dir = os.path.join(docking_dir, ligand_name)\n",
        "# take a look at the JSON output file\n",
        "with open(f\"{docking_ligand_dir}/output.json\", \"r\") as f:\n",
        "    result = json.load(f)\n",
        "result.keys()"
      ]
    },
    {
      "cell_type": "markdown",
      "id": "3535852351035817",
      "metadata": {
        "id": "3535852351035817"
      },
      "source": [
        "- `trajectory`: diffusion trajectory (empty unless `save_trajectory` is set to `True`)\n",
        "- `ligand_positions`: a list of docking poses\n",
        "- `ligand_scores`: a list of confidence scores for each docking pose\n",
        "- `protein`: input protein\n",
        "- `ligand`: input ligand\n",
        "\n",
        "Confidence score the logits of the probability that the docked pose has a RMSD < 2A compared to ground truth. Interpretation of confidence score (c) is based on the guideline provided by [github authors](https://github.com/gcorso/DiffDock?tab=readme-ov-file#faq--).\n",
        "```\n",
        "c > 0 : high confidence\n",
        "-1.5 < c < 0: moderate confidence\n",
        "c < -1.5: low confidence\n",
        "```"
      ]
    },
    {
      "cell_type": "markdown",
      "id": "40ac7945e69b0728",
      "metadata": {
        "id": "40ac7945e69b0728"
      },
      "source": [
        "Visusalize docking poses and [confidence score](https://github.com/gcorso/DiffDock#faq--)"
      ]
    },
    {
      "cell_type": "code",
      "execution_count": null,
      "id": "7S6HWUWzVJCT",
      "metadata": {
        "id": "7S6HWUWzVJCT"
      },
      "outputs": [],
      "source": [
        "# define a function for color definitions for visualization\n",
        "def ansi_color(text, color):\n",
        "    \"\"\"Color text for console output\"\"\"\n",
        "    colors = {\n",
        "        \"red\": \"\\033[31m\",\n",
        "        \"green\": \"\\033[32m\",\n",
        "        \"yellow\": \"\\033[33m\",\n",
        "        \"blue\": \"\\033[34m\",\n",
        "        \"magenta\": \"\\033[35m\",\n",
        "        \"cyan\": \"\\033[36m\",\n",
        "        \"white\": \"\\033[37m\",\n",
        "        \"reset\": \"\\033[0m\"\n",
        "    }\n",
        "    return f\"{colors[color]}{text}{colors['reset']}\""
      ]
    },
    {
      "cell_type": "code",
      "execution_count": null,
      "id": "GSp3wJ_yVMgj",
      "metadata": {
        "id": "GSp3wJ_yVMgj"
      },
      "outputs": [],
      "source": [
        "# load docking poses from the output SDF files extracted from the output.json 'positions' field\n",
        "def load_poses_from_sdf(directory):\n",
        "    sdf_files = glob.glob(f\"{directory}/*.sdf\")\n",
        "    poses = []\n",
        "\n",
        "    for sdf_file in sdf_files:\n",
        "        supplier = Chem.SDMolSupplier(sdf_file)\n",
        "        for mol in supplier:\n",
        "            if mol is not None:\n",
        "                poses.append(mol)\n",
        "    return poses"
      ]
    },
    {
      "cell_type": "code",
      "execution_count": null,
      "id": "f3FYl3XdVWu0",
      "metadata": {
        "id": "f3FYl3XdVWu0"
      },
      "outputs": [],
      "source": [
        "# visualize the docking poses in an interactive manner, browsing docked poses using an embedded slider\n",
        "def update_viewer(pose_index):\n",
        "\n",
        "    view = py3Dmol.view(width=1200, height=900)\n",
        "\n",
        "    # Add the protein model\n",
        "    view.addModel(protein_pdb, 'pdb')\n",
        "    view.setStyle({'model': 0}, {'cartoon': {'color': 'white', 'opacity': 0.7}})\n",
        "    view.setViewStyle({'style':'outline','color':'black','width':0.03})\n",
        "    Prot=view.getModel()\n",
        "    Prot.setStyle({'cartoon':{'arrows':True, 'tubes':True, 'style':'oval', 'color':'white'}})\n",
        "    view.addSurface(py3Dmol.VDW,{'opacity':0.4,'color':'white'})\n",
        "\n",
        "    # Add the selected docking pose\n",
        "    pose = poses[pose_index]\n",
        "    pose_block = Chem.MolToMolBlock(pose)\n",
        "    # color = \"#\"+''.join([random.choice('0123456789ABCDEF') for _ in range(6)])\n",
        "    view.addModel(pose_block, 'mol')\n",
        "    view.setStyle({'model': 1}, {'stick': {'radius': 0.3, 'colorscheme': 'magentaCarbon'}})\n",
        "    view.addSurface(py3Dmol.VDW, {'opacity': 0.7, 'colorscheme': 'magentaCarbon'}, {'model': 1})\n",
        "    score = round(confidence_scores[pose_index], 3)\n",
        "    score_color = \"green\" if score > 0 else \"blue\" if score >= -1.5 else \"red\"\n",
        "    print(f\"Loaded {ansi_color(ligand_name, 'magenta')} with confidence score: {ansi_color(confidence_scores[pose_index], score_color)}\")\n",
        "    view.zoomTo()\n",
        "    return view.update()\n"
      ]
    },
    {
      "cell_type": "code",
      "execution_count": null,
      "id": "EX1ti_JJWIuV",
      "metadata": {
        "id": "EX1ti_JJWIuV"
      },
      "outputs": [],
      "source": [
        "# Load the protein model\n",
        "with open(protein_file_path, 'r') as f:\n",
        "    protein_pdb = f.read()\n",
        "\n",
        "# Specify the directory containing the dock poses in SDF format for a specific ligand\n",
        "poses = load_poses_from_sdf(docking_ligand_dir)\n",
        "\n",
        "# Verify the number of poses loaded\n",
        "print(f\"Number of poses loaded: {len(poses)}\")"
      ]
    },
    {
      "cell_type": "code",
      "execution_count": null,
      "id": "n0oE-zEXWZz0",
      "metadata": {
        "id": "n0oE-zEXWZz0"
      },
      "outputs": [],
      "source": [
        "# Load confidence scores from output.json\n",
        "output_json_path = os.path.join(docking_ligand_dir, 'output.json')\n",
        "with open(output_json_path, 'r') as file:\n",
        "    data = json.load(file)\n",
        "    confidence_scores = data['position_confidence']  # list of floats\n",
        "print(confidence_scores)"
      ]
    },
    {
      "cell_type": "code",
      "execution_count": null,
      "id": "f33fff1a-a21b-4da8-ae45-21eb8a0e7b85",
      "metadata": {
        "id": "f33fff1a-a21b-4da8-ae45-21eb8a0e7b85"
      },
      "outputs": [],
      "source": [
        "# Create a slider widget\n",
        "pose_slider = widgets.IntSlider(\n",
        "    value=0,\n",
        "    min=0,\n",
        "    max=len(poses) - 1,\n",
        "    step=1,\n",
        "    description='Pose:',\n",
        "    continuous_update=False,\n",
        "    orientation='horizontal',\n",
        "    readout=True,\n",
        "    readout_format='d'\n",
        ")\n",
        "\n",
        "# Link the slider to the viewer update function\n",
        "widgets.interact(update_viewer, pose_index=pose_slider)"
      ]
    }
  ],
  "metadata": {
    "colab": {
      "provenance": []
    },
    "kernelspec": {
      "display_name": "Python 3 (ipykernel)",
      "language": "python",
      "name": "python3"
    },
    "language_info": {
      "codemirror_mode": {
        "name": "ipython",
        "version": 3
      },
      "file_extension": ".py",
      "mimetype": "text/x-python",
      "name": "python",
      "nbconvert_exporter": "python",
      "pygments_lexer": "ipython3",
      "version": "3.11.9"
    }
  },
  "nbformat": 4,
  "nbformat_minor": 5
}
