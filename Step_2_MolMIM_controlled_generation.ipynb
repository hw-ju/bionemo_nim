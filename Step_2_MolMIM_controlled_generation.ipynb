{
  "cells": [
    {
      "cell_type": "code",
      "source": [
        "# !pip install bionemo bionemo-controlled-generation biopython python-dotenv pandas numpy matplotlib loguru py3dmol\n",
        "!pip install rdkit python-dotenv pandas numpy matplotlib loguru py3dmol"
      ],
      "metadata": {
        "colab": {
          "base_uri": "https://localhost:8080/"
        },
        "id": "rL9_wQUn1NNS",
        "outputId": "7af3f5e8-6e48-4aeb-e376-cef4428ae7ba"
      },
      "id": "rL9_wQUn1NNS",
      "execution_count": 1,
      "outputs": [
        {
          "output_type": "stream",
          "name": "stdout",
          "text": [
            "Collecting rdkit\n",
            "  Downloading rdkit-2024.3.6-cp310-cp310-manylinux_2_28_x86_64.whl.metadata (4.0 kB)\n",
            "Collecting python-dotenv\n",
            "  Downloading python_dotenv-1.0.1-py3-none-any.whl.metadata (23 kB)\n",
            "Requirement already satisfied: pandas in /usr/local/lib/python3.10/dist-packages (2.2.2)\n",
            "Requirement already satisfied: numpy in /usr/local/lib/python3.10/dist-packages (1.26.4)\n",
            "Requirement already satisfied: matplotlib in /usr/local/lib/python3.10/dist-packages (3.8.0)\n",
            "Collecting loguru\n",
            "  Downloading loguru-0.7.2-py3-none-any.whl.metadata (23 kB)\n",
            "Collecting py3dmol\n",
            "  Downloading py3Dmol-2.4.2-py2.py3-none-any.whl.metadata (1.9 kB)\n",
            "Requirement already satisfied: Pillow in /usr/local/lib/python3.10/dist-packages (from rdkit) (10.4.0)\n",
            "Requirement already satisfied: python-dateutil>=2.8.2 in /usr/local/lib/python3.10/dist-packages (from pandas) (2.8.2)\n",
            "Requirement already satisfied: pytz>=2020.1 in /usr/local/lib/python3.10/dist-packages (from pandas) (2024.2)\n",
            "Requirement already satisfied: tzdata>=2022.7 in /usr/local/lib/python3.10/dist-packages (from pandas) (2024.2)\n",
            "Requirement already satisfied: contourpy>=1.0.1 in /usr/local/lib/python3.10/dist-packages (from matplotlib) (1.3.0)\n",
            "Requirement already satisfied: cycler>=0.10 in /usr/local/lib/python3.10/dist-packages (from matplotlib) (0.12.1)\n",
            "Requirement already satisfied: fonttools>=4.22.0 in /usr/local/lib/python3.10/dist-packages (from matplotlib) (4.54.1)\n",
            "Requirement already satisfied: kiwisolver>=1.0.1 in /usr/local/lib/python3.10/dist-packages (from matplotlib) (1.4.7)\n",
            "Requirement already satisfied: packaging>=20.0 in /usr/local/lib/python3.10/dist-packages (from matplotlib) (24.1)\n",
            "Requirement already satisfied: pyparsing>=2.3.1 in /usr/local/lib/python3.10/dist-packages (from matplotlib) (3.2.0)\n",
            "Requirement already satisfied: six>=1.5 in /usr/local/lib/python3.10/dist-packages (from python-dateutil>=2.8.2->pandas) (1.16.0)\n",
            "Downloading rdkit-2024.3.6-cp310-cp310-manylinux_2_28_x86_64.whl (32.8 MB)\n",
            "\u001b[2K   \u001b[90m━━━━━━━━━━━━━━━━━━━━━━━━━━━━━━━━━━━━━━━━\u001b[0m \u001b[32m32.8/32.8 MB\u001b[0m \u001b[31m17.1 MB/s\u001b[0m eta \u001b[36m0:00:00\u001b[0m\n",
            "\u001b[?25hDownloading python_dotenv-1.0.1-py3-none-any.whl (19 kB)\n",
            "Downloading loguru-0.7.2-py3-none-any.whl (62 kB)\n",
            "\u001b[2K   \u001b[90m━━━━━━━━━━━━━━━━━━━━━━━━━━━━━━━━━━━━━━━━\u001b[0m \u001b[32m62.5/62.5 kB\u001b[0m \u001b[31m4.0 MB/s\u001b[0m eta \u001b[36m0:00:00\u001b[0m\n",
            "\u001b[?25hDownloading py3Dmol-2.4.2-py2.py3-none-any.whl (7.0 kB)\n",
            "Installing collected packages: py3dmol, rdkit, python-dotenv, loguru\n",
            "Successfully installed loguru-0.7.2 py3dmol-2.4.2 python-dotenv-1.0.1 rdkit-2024.3.6\n"
          ]
        }
      ]
    },
    {
      "cell_type": "markdown",
      "id": "d05ea3a8067c2cea",
      "metadata": {
        "id": "d05ea3a8067c2cea"
      },
      "source": [
        "# Step 2. Controlled generation of novel molecules using MolMIM\n",
        "\n",
        "This notebook is adapted from the [custom oracles notebook](https://github.com/NVIDIA/BioNeMo/blob/main/examples/service/notebooks/cma_custom_oracles.ipynb) from NVIDIA bionemo python client repository.\n",
        "\n",
        "This tutorial demonstrates how to use the molmim_cma package to optimize exploration of the [MolMIM](https://arxiv.org/abs/2208.09016) model's latent space to generate molecules\n",
        "with properties of interest. To do this, we use the [CMA-ES](https://en.wikipedia.org/wiki/CMA-ES) genetic optimization algorithm. The basic steps of optimization are:\n",
        "\n",
        "1. Decode latent representations into smiles strings\n",
        "2. Score generated smiles strings based on the desired oracle function\n",
        "3. Update the CMA-ES algorithm with the smiles/score pairing\n",
        "4. Ask the CMA-ES algorithm for a new set of latent space representations to sample."
      ]
    },
    {
      "cell_type": "code",
      "execution_count": 2,
      "id": "8fff11ae32bf2dfc",
      "metadata": {
        "ExecuteTime": {
          "end_time": "2024-04-25T03:32:47.008880Z",
          "start_time": "2024-04-25T03:32:47.003814Z"
        },
        "jupyter": {
          "outputs_hidden": false
        },
        "id": "8fff11ae32bf2dfc"
      },
      "outputs": [],
      "source": [
        "# load environment variables from .env file, which contains API key\n",
        "import pickle\n",
        "from typing import List\n",
        "import numpy as np\n",
        "# from guided_molecule_gen.optimizer import (\n",
        "#     MoleculeGenerationOptimizer,\n",
        "#     SingleMoleculeCMAOptimizer,\n",
        "# )\n",
        "# from guided_molecule_gen.oracles import qed, tanimoto_similarity\n",
        "from rdkit.Chem.QED import qed as rdkit_qed\n",
        "from rdkit import Chem\n",
        "# from bionemo.api import BionemoClient as BaseClient\n",
        "# from guided_molecule_gen.inference_client import BioNemoServiceClient\n",
        "import matplotlib.pyplot as plt\n",
        "from IPython.display import display, clear_output\n",
        "# from scripts.utils import *\n",
        "# from dotenv import load_dotenv\n",
        "# load_dotenv()\n",
        "from rdkit.Chem.QED import qed\n",
        "from rdkit.Chem import AllChem\n",
        "from rdkit.Chem.AllChem import GetMorganFingerprintAsBitVect\n",
        "from rdkit.DataStructs import TanimotoSimilarity\n",
        "import ast\n",
        "from google.colab import userdata\n",
        "import os, shutil, requests\n",
        "import pandas as pd"
      ]
    },
    {
      "cell_type": "markdown",
      "id": "d55152de-7a27-4892-96c6-052e6aa6a030",
      "metadata": {
        "id": "d55152de-7a27-4892-96c6-052e6aa6a030"
      },
      "source": [
        "Then we can import and install library dependencies."
      ]
    },
    {
      "cell_type": "markdown",
      "id": "85171803ddb09e9e",
      "metadata": {
        "id": "85171803ddb09e9e"
      },
      "source": [
        "Now, let's set  up our molecule, which the PDB ID SZD (a malic enzyme inhibitor)\n",
        "\n",
        "We'll run three replicates of optimization simulataneously - you could also seed different molecules here."
      ]
    },
    {
      "cell_type": "markdown",
      "id": "d14efc4952c347f5",
      "metadata": {
        "id": "d14efc4952c347f5"
      },
      "source": [
        "## 2.3 Set up the starting molecule"
      ]
    },
    {
      "cell_type": "code",
      "execution_count": 3,
      "id": "9cba10a37df62745",
      "metadata": {
        "ExecuteTime": {
          "end_time": "2024-04-25T03:32:52.318267Z",
          "start_time": "2024-04-25T03:32:52.307150Z"
        },
        "colab": {
          "base_uri": "https://localhost:8080/",
          "height": 185
        },
        "id": "9cba10a37df62745",
        "outputId": "6b7a49ba-8343-4ead-b199-bcd671d85f30"
      },
      "outputs": [
        {
          "output_type": "stream",
          "name": "stdout",
          "text": [
            "Original QED: 0.49932687830292277\n"
          ]
        },
        {
          "output_type": "execute_result",
          "data": {
            "text/plain": [
              "<rdkit.Chem.rdchem.Mol at 0x7b1e8df976f0>"
            ],
            "image/png": "[encoded data removed]"
          },
          "metadata": {},
          "execution_count": 3
        }
      ],
      "source": [
        "smis = \"O=C(Nc1cccc(S(=O)(=O)Nc2ccc(OC(F)(F)F)cc2)c1)c1cc(F)cc(F)c1\"\n",
        "\n",
        "mol = Chem.MolFromSmiles(smis)\n",
        "qed_score = rdkit_qed(mol)\n",
        "print(f\"Original QED: {qed_score}\")\n",
        "mol"
      ]
    },
    {
      "cell_type": "markdown",
      "source": [
        "## Guided Molecular Generation with CMA-ES\n",
        "\n",
        "In contrast to the random sampling of the latent space described (which is available when you self-host MolMIM NIM, see [doc](https://docs.nvidia.com/nim/bionemo/molmim/latest/endpoints.html#)), we can use a black box optimizer, called CMA-ES, to perform guided optimization of the a molecule's property through sampling of the latent space. In the blocks below, we use CMA-ES to optimize the QED score of the generated molecules while preseving a level of similary to the seed molecule, PDB ID SZD.\n",
        "\n",
        "This first block initializes variables to store the results of the script and sets up the parameters for the experiment. It defines three lists to store the counts of valid SMILES strings, average Tanimoto similarities, and average QED scores. It also creates an empty dictionary to store the results and a list of minimum similarities to be used in the experiment, ranging from 0.1 to 0.7 with 3 evenly spaced values."
      ],
      "metadata": {
        "id": "PPTCGMX4q4e5"
      },
      "id": "PPTCGMX4q4e5"
    },
    {
      "cell_type": "code",
      "source": [
        "# Initialize lists to store the results\n",
        "# valid_smiles_counts = []\n",
        "# avg_tanimoto_similarities = []\n",
        "# avg_qed_scores = []\n",
        "\n",
        "# Create a dictionary to store the results\n",
        "results = {}\n",
        "\n",
        "# Create a list of minimum similarities\n",
        "num_min_sims = 3\n",
        "min_sims = np.linspace(0.1, 0.7, num_min_sims)"
      ],
      "metadata": {
        "id": "SdRtp1QZruhZ"
      },
      "id": "SdRtp1QZruhZ",
      "execution_count": 4,
      "outputs": []
    },
    {
      "cell_type": "markdown",
      "source": [
        "The following block is the main loop of the script, where it iterates over each minimum similarity value in the `min_sims` list. For each minimum similarity, it generates molecules using the CMA-ES algorithm, calculates the Tanimoto similarity and QED score for each SMILES string, and stores the results. The results are stored in a dictionary called `results`, where the keys are the minimum similarity values and the values are dictionaries containing the number of valid SMILES strings, average Tanimoto similarity, and average QED score. After the loop, the results are converted into a Pandas dataframe for further analysis."
      ],
      "metadata": {
        "id": "KjIvgwM1sdCk"
      },
      "id": "KjIvgwM1sdCk"
    },
    {
      "cell_type": "code",
      "source": [
        "def tanimoto_similarity(smiles, reference: str):\n",
        "    # Get fingerprint params\n",
        "    fingerprint_radius_param = 2\n",
        "    fingerprint_nbits = 2048\n",
        "\n",
        "    # Handle the reference molecule\n",
        "    reference_mol = Chem.MolFromSmiles(reference)\n",
        "    reference_fingerprint = GetMorganFingerprintAsBitVect(\n",
        "        reference_mol, radius=fingerprint_radius_param, nBits=fingerprint_nbits\n",
        "    )\n",
        "\n",
        "    # Validate the other molecule\n",
        "    mol = Chem.MolFromSmiles(smiles)\n",
        "    if mol is None:\n",
        "        return 0\n",
        "\n",
        "    fingerprint = GetMorganFingerprintAsBitVect(mol, radius=fingerprint_radius_param, nBits=fingerprint_nbits)\n",
        "\n",
        "    # Calculate and return the Tanimoto similarity\n",
        "    return TanimotoSimilarity(fingerprint, reference_fingerprint)"
      ],
      "metadata": {
        "id": "SiEdsIKmHyBy"
      },
      "id": "SiEdsIKmHyBy",
      "execution_count": 5,
      "outputs": []
    },
    {
      "cell_type": "code",
      "execution_count": 6,
      "metadata": {
        "id": "5dac62d8-a15d-4d3d-a692-861ec4ad298e",
        "colab": {
          "base_uri": "https://localhost:8080/"
        },
        "outputId": "2e4917aa-97ca-461b-bcaa-c84e5494fbc9"
      },
      "outputs": [
        {
          "output_type": "stream",
          "name": "stdout",
          "text": [
            "*************** min_sim: 0.1 ********************\n",
            "response_json: \n",
            "{'molecules': '[{\"sample\": \"O=C(Nc1ccc(OC(F)F)cc1)N1CCN(C(=O)c2ccc(F)cc2)CC1\", \"score\": 0.8660455203846833}, {\"sample\": \"COc1cc(F)ccc1NS(=O)(=O)c1ccc(F)c(C(F)(F)F)c1\", \"score\": 0.8368577058455364}, {\"sample\": \"O=C(NS(=O)(=O)c1cccc(OC(F)(F)F)c1)c1ccc(F)c(Cl)c1\", \"score\": 0.8014742295187183}, {\"sample\": \"O=C(NCc1ccc(NS(=O)(=O)c2ccc(F)cc2)cc1)[C@H]1C[C@@H]1C(F)(F)F\", \"score\": 0.7087866838852815}, {\"sample\": \"O=C(CNS(=O)(=O)c1ccc(F)c(F)c1)Nc1cn(CC(F)(F)F)nn1\", \"score\": 0.70636069179847}, {\"sample\": \"COc1cc(Nc2ccc(S(=O)(=O)Nc3ccc(F)c(F)c3)cc2)ccc1F\", \"score\": 0.622794650115424}, {\"sample\": \"O=C(NCc1cccc(C(F)(F)F)c1)C(=O)Nc1cccc(OC(F)F)c1\", \"score\": 0.6081020886527891}, {\"sample\": \"COc1ccc(NC(=O)c2ccc(S(=O)(=O)Nc3ccc(F)c(F)c3)cc2)cc1F\", \"score\": 0.6077082178367843}, {\"sample\": \"COc1cc(NC(=O)c2cccc(S(=O)(=O)c3ccc(F)c(F)c3)c2)cc(OC)c1\", \"score\": 0.5930245819107047}, {\"sample\": \"COc1ccc(NC(=O)COC(=O)c2cccc(NC(=O)c3ccc(F)cc3)c2)cc1\", \"score\": 0.5638334134941091}]', 'score_type': 'QED'}\n",
            "gen_smiles_list: \n",
            "['O=C(Nc1ccc(OC(F)F)cc1)N1CCN(C(=O)c2ccc(F)cc2)CC1', 'COc1cc(F)ccc1NS(=O)(=O)c1ccc(F)c(C(F)(F)F)c1', 'O=C(NS(=O)(=O)c1cccc(OC(F)(F)F)c1)c1ccc(F)c(Cl)c1', 'O=C(NCc1ccc(NS(=O)(=O)c2ccc(F)cc2)cc1)[C@H]1C[C@@H]1C(F)(F)F', 'O=C(CNS(=O)(=O)c1ccc(F)c(F)c1)Nc1cn(CC(F)(F)F)nn1', 'COc1cc(Nc2ccc(S(=O)(=O)Nc3ccc(F)c(F)c3)cc2)ccc1F', 'O=C(NCc1cccc(C(F)(F)F)c1)C(=O)Nc1cccc(OC(F)F)c1', 'COc1ccc(NC(=O)c2ccc(S(=O)(=O)Nc3ccc(F)c(F)c3)cc2)cc1F', 'COc1cc(NC(=O)c2cccc(S(=O)(=O)c3ccc(F)c(F)c3)c2)cc(OC)c1', 'COc1ccc(NC(=O)COC(=O)c2cccc(NC(=O)c3ccc(F)cc3)c2)cc1']\n",
            "canonical_smiles_list: \n",
            "['COc1ccc(NC(=O)COC(=O)c2cccc(NC(=O)c3ccc(F)cc3)c2)cc1', 'COc1cc(F)ccc1NS(=O)(=O)c1ccc(F)c(C(F)(F)F)c1', 'O=C(CNS(=O)(=O)c1ccc(F)c(F)c1)Nc1cn(CC(F)(F)F)nn1', 'COc1cc(NC(=O)c2cccc(S(=O)(=O)c3ccc(F)c(F)c3)c2)cc(OC)c1', 'O=C(Nc1ccc(OC(F)F)cc1)N1CCN(C(=O)c2ccc(F)cc2)CC1', 'COc1ccc(NC(=O)c2ccc(S(=O)(=O)Nc3ccc(F)c(F)c3)cc2)cc1F', 'O=C(NCc1cccc(C(F)(F)F)c1)C(=O)Nc1cccc(OC(F)F)c1', 'O=C(NCc1ccc(NS(=O)(=O)c2ccc(F)cc2)cc1)[C@H]1C[C@@H]1C(F)(F)F', 'COc1cc(Nc2ccc(S(=O)(=O)Nc3ccc(F)c(F)c3)cc2)ccc1F', 'O=C(NS(=O)(=O)c1cccc(OC(F)(F)F)c1)c1ccc(F)c(Cl)c1']\n"
          ]
        },
        {
          "output_type": "stream",
          "name": "stderr",
          "text": [
            "[22:07:46] DEPRECATION WARNING: please use MorganGenerator\n",
            "[22:07:46] DEPRECATION WARNING: please use MorganGenerator\n",
            "[22:07:46] DEPRECATION WARNING: please use MorganGenerator\n",
            "[22:07:46] DEPRECATION WARNING: please use MorganGenerator\n",
            "[22:07:46] DEPRECATION WARNING: please use MorganGenerator\n",
            "[22:07:46] DEPRECATION WARNING: please use MorganGenerator\n",
            "[22:07:46] DEPRECATION WARNING: please use MorganGenerator\n",
            "[22:07:46] DEPRECATION WARNING: please use MorganGenerator\n",
            "[22:07:46] DEPRECATION WARNING: please use MorganGenerator\n",
            "[22:07:46] DEPRECATION WARNING: please use MorganGenerator\n",
            "[22:07:46] DEPRECATION WARNING: please use MorganGenerator\n",
            "[22:07:46] DEPRECATION WARNING: please use MorganGenerator\n",
            "[22:07:46] DEPRECATION WARNING: please use MorganGenerator\n",
            "[22:07:46] DEPRECATION WARNING: please use MorganGenerator\n",
            "[22:07:46] DEPRECATION WARNING: please use MorganGenerator\n",
            "[22:07:46] DEPRECATION WARNING: please use MorganGenerator\n",
            "[22:07:46] DEPRECATION WARNING: please use MorganGenerator\n",
            "[22:07:46] DEPRECATION WARNING: please use MorganGenerator\n",
            "[22:07:46] DEPRECATION WARNING: please use MorganGenerator\n",
            "[22:07:46] DEPRECATION WARNING: please use MorganGenerator\n"
          ]
        },
        {
          "output_type": "stream",
          "name": "stdout",
          "text": [
            "*************** min_sim: 0.4 ********************\n",
            "response_json: \n",
            "{'molecules': '[{\"sample\": \"O=C(O)c1cc(NS(=O)(=O)c2cccc(C(F)(F)F)c2)ccc1F\", \"score\": 0.8164024525328468}, {\"sample\": \"O=S(=O)(Nc1cccc(OC(F)(F)F)c1)c1cc(F)cc(C(F)(F)F)c1\", \"score\": 0.7629024481600742}, {\"sample\": \"C[C@@H]1CCCN(S(=O)(=O)c2cccc(C(=O)Nc3cc(F)cc(OC(F)(F)F)c3)c2)C1\", \"score\": 0.6716438689801733}, {\"sample\": \"Nc1cc(NS(=O)(=O)c2cccc(F)c2)cc(C(F)(F)F)c1\", \"score\": 0.6685655205025507}, {\"sample\": \"O=C(Nc1ccc(Oc2cc(F)cc(F)c2)cc1)c1ccc(F)c(F)c1\", \"score\": 0.6416467148399471}, {\"sample\": \"O=C(Nc1cccc(OC(F)(F)F)c1)c1ccc2c(c1)S(=O)(=O)N(c1ccccc1)C2=O\", \"score\": 0.6279240959795985}, {\"sample\": \"O=C(Nc1ccc(O)c(C(F)(F)F)c1)c1cc(F)cc(Br)c1\", \"score\": 0.594591571751476}, {\"sample\": \"O=S(=O)(Nc1ccc(Oc2ccc(F)cc2)cc1)c1cccc(C(F)(F)F)c1\", \"score\": 0.5692648835391796}, {\"sample\": \"COc1ccc(NC(=O)c2ccc(C(F)(F)F)cc2)cc1S(=O)(=O)Nc1ccccc1\", \"score\": 0.5668714494662869}, {\"sample\": \"O=C(Nc1ccc2c(c1)OCCO2)c1ccc(NS(=O)(=O)c2cccc(C(F)(F)F)c2)cc1\", \"score\": 0.5621775105077954}]', 'score_type': 'QED'}\n",
            "gen_smiles_list: \n",
            "['O=C(O)c1cc(NS(=O)(=O)c2cccc(C(F)(F)F)c2)ccc1F', 'O=S(=O)(Nc1cccc(OC(F)(F)F)c1)c1cc(F)cc(C(F)(F)F)c1', 'C[C@@H]1CCCN(S(=O)(=O)c2cccc(C(=O)Nc3cc(F)cc(OC(F)(F)F)c3)c2)C1', 'Nc1cc(NS(=O)(=O)c2cccc(F)c2)cc(C(F)(F)F)c1', 'O=C(Nc1ccc(Oc2cc(F)cc(F)c2)cc1)c1ccc(F)c(F)c1', 'O=C(Nc1cccc(OC(F)(F)F)c1)c1ccc2c(c1)S(=O)(=O)N(c1ccccc1)C2=O', 'O=C(Nc1ccc(O)c(C(F)(F)F)c1)c1cc(F)cc(Br)c1', 'O=S(=O)(Nc1ccc(Oc2ccc(F)cc2)cc1)c1cccc(C(F)(F)F)c1', 'COc1ccc(NC(=O)c2ccc(C(F)(F)F)cc2)cc1S(=O)(=O)Nc1ccccc1', 'O=C(Nc1ccc2c(c1)OCCO2)c1ccc(NS(=O)(=O)c2cccc(C(F)(F)F)c2)cc1']\n",
            "canonical_smiles_list: \n",
            "['C[C@@H]1CCCN(S(=O)(=O)c2cccc(C(=O)Nc3cc(F)cc(OC(F)(F)F)c3)c2)C1', 'O=S(=O)(Nc1cccc(OC(F)(F)F)c1)c1cc(F)cc(C(F)(F)F)c1', 'COc1ccc(NC(=O)c2ccc(C(F)(F)F)cc2)cc1S(=O)(=O)Nc1ccccc1', 'O=C(Nc1ccc(O)c(C(F)(F)F)c1)c1cc(F)cc(Br)c1', 'Nc1cc(NS(=O)(=O)c2cccc(F)c2)cc(C(F)(F)F)c1', 'O=C(Nc1cccc(OC(F)(F)F)c1)c1ccc2c(c1)S(=O)(=O)N(c1ccccc1)C2=O', 'O=S(=O)(Nc1ccc(Oc2ccc(F)cc2)cc1)c1cccc(C(F)(F)F)c1', 'O=C(Nc1ccc2c(c1)OCCO2)c1ccc(NS(=O)(=O)c2cccc(C(F)(F)F)c2)cc1', 'O=C(Nc1ccc(Oc2cc(F)cc(F)c2)cc1)c1ccc(F)c(F)c1', 'O=C(O)c1cc(NS(=O)(=O)c2cccc(C(F)(F)F)c2)ccc1F']\n"
          ]
        },
        {
          "output_type": "stream",
          "name": "stderr",
          "text": [
            "[22:07:48] DEPRECATION WARNING: please use MorganGenerator\n",
            "[22:07:48] DEPRECATION WARNING: please use MorganGenerator\n",
            "[22:07:48] DEPRECATION WARNING: please use MorganGenerator\n",
            "[22:07:48] DEPRECATION WARNING: please use MorganGenerator\n",
            "[22:07:48] DEPRECATION WARNING: please use MorganGenerator\n",
            "[22:07:48] DEPRECATION WARNING: please use MorganGenerator\n",
            "[22:07:48] DEPRECATION WARNING: please use MorganGenerator\n",
            "[22:07:48] DEPRECATION WARNING: please use MorganGenerator\n",
            "[22:07:48] DEPRECATION WARNING: please use MorganGenerator\n",
            "[22:07:48] DEPRECATION WARNING: please use MorganGenerator\n",
            "[22:07:48] DEPRECATION WARNING: please use MorganGenerator\n",
            "[22:07:48] DEPRECATION WARNING: please use MorganGenerator\n",
            "[22:07:48] DEPRECATION WARNING: please use MorganGenerator\n",
            "[22:07:48] DEPRECATION WARNING: please use MorganGenerator\n",
            "[22:07:48] DEPRECATION WARNING: please use MorganGenerator\n",
            "[22:07:48] DEPRECATION WARNING: please use MorganGenerator\n",
            "[22:07:48] DEPRECATION WARNING: please use MorganGenerator\n",
            "[22:07:48] DEPRECATION WARNING: please use MorganGenerator\n",
            "[22:07:48] DEPRECATION WARNING: please use MorganGenerator\n",
            "[22:07:48] DEPRECATION WARNING: please use MorganGenerator\n"
          ]
        },
        {
          "output_type": "stream",
          "name": "stdout",
          "text": [
            "*************** min_sim: 0.7 ********************\n",
            "response_json: \n",
            "{'molecules': '[{\"sample\": \"O=S(=O)(Cc1ccc(F)cc1)Nc1ccc(OC(F)(F)F)cc1F\", \"score\": 0.8181166328722356}, {\"sample\": \"O=C(Nc1ccc(S(=O)(=O)Nc2ccccc2)cc1)c1ccc(F)c(F)c1\", \"score\": 0.6932926199936232}, {\"sample\": \"O=C(Nc1cccc(C(=O)Nc2ccc(OC(F)(F)F)cc2)c1)c1ccc(F)cc1\", \"score\": 0.5579449657255281}, {\"sample\": \"O=C(Nc1ccc(OC(F)(F)F)cc1)c1cccc(Nc2cccc(F)c2)c1\", \"score\": 0.5480410835043059}, {\"sample\": \"O=C(Nc1cccc(S(=O)(=O)Nc2ccc(OC(F)(F)F)cc2)c1)c1cccc(F)c1\", \"score\": 0.525478599674303}, {\"sample\": \"O=C(Nc1cccc(S(=O)(=O)Nc2ccc(OC(F)(F)F)cc2)c1)c1cccc(F)c1\", \"score\": 0.525478599674303}, {\"sample\": \"O=C(Nc1cccc(S(=O)(=O)Nc2ccc(OC(F)(F)F)cc2)c1)c1cccc(F)c1\", \"score\": 0.525478599674303}, {\"sample\": \"O=C(Nc1cccc(S(=O)(=O)Nc2cccc(OC(F)(F)F)c2)c1)c1cccc(F)c1\", \"score\": 0.525478599674303}, {\"sample\": \"O=C(Nc1ccc(F)c(F)c1)c1cccc(NS(=O)(=O)c2ccc(OC(F)(F)F)cc2)c1\", \"score\": 0.4993268783029225}, {\"sample\": \"O=C(Nc1cccc(S(=O)(=O)Nc2cc(F)cc(OC(F)(F)F)c2)c1)c1cccc(F)c1\", \"score\": 0.49932687830292244}]', 'score_type': 'QED'}\n",
            "gen_smiles_list: \n",
            "['O=S(=O)(Cc1ccc(F)cc1)Nc1ccc(OC(F)(F)F)cc1F', 'O=C(Nc1ccc(S(=O)(=O)Nc2ccccc2)cc1)c1ccc(F)c(F)c1', 'O=C(Nc1cccc(C(=O)Nc2ccc(OC(F)(F)F)cc2)c1)c1ccc(F)cc1', 'O=C(Nc1ccc(OC(F)(F)F)cc1)c1cccc(Nc2cccc(F)c2)c1', 'O=C(Nc1cccc(S(=O)(=O)Nc2ccc(OC(F)(F)F)cc2)c1)c1cccc(F)c1', 'O=C(Nc1cccc(S(=O)(=O)Nc2ccc(OC(F)(F)F)cc2)c1)c1cccc(F)c1', 'O=C(Nc1cccc(S(=O)(=O)Nc2ccc(OC(F)(F)F)cc2)c1)c1cccc(F)c1', 'O=C(Nc1cccc(S(=O)(=O)Nc2cccc(OC(F)(F)F)c2)c1)c1cccc(F)c1', 'O=C(Nc1ccc(F)c(F)c1)c1cccc(NS(=O)(=O)c2ccc(OC(F)(F)F)cc2)c1', 'O=C(Nc1cccc(S(=O)(=O)Nc2cc(F)cc(OC(F)(F)F)c2)c1)c1cccc(F)c1']\n",
            "canonical_smiles_list: \n",
            "['O=C(Nc1cccc(S(=O)(=O)Nc2ccc(OC(F)(F)F)cc2)c1)c1cccc(F)c1', 'O=C(Nc1cccc(S(=O)(=O)Nc2cccc(OC(F)(F)F)c2)c1)c1cccc(F)c1', 'O=C(Nc1ccc(S(=O)(=O)Nc2ccccc2)cc1)c1ccc(F)c(F)c1', 'O=C(Nc1ccc(OC(F)(F)F)cc1)c1cccc(Nc2cccc(F)c2)c1', 'O=C(Nc1cccc(S(=O)(=O)Nc2cc(F)cc(OC(F)(F)F)c2)c1)c1cccc(F)c1', 'O=C(Nc1cccc(C(=O)Nc2ccc(OC(F)(F)F)cc2)c1)c1ccc(F)cc1', 'O=C(Nc1ccc(F)c(F)c1)c1cccc(NS(=O)(=O)c2ccc(OC(F)(F)F)cc2)c1', 'O=S(=O)(Cc1ccc(F)cc1)Nc1ccc(OC(F)(F)F)cc1F']\n"
          ]
        },
        {
          "output_type": "stream",
          "name": "stderr",
          "text": [
            "[22:07:49] DEPRECATION WARNING: please use MorganGenerator\n",
            "[22:07:49] DEPRECATION WARNING: please use MorganGenerator\n",
            "[22:07:49] DEPRECATION WARNING: please use MorganGenerator\n",
            "[22:07:49] DEPRECATION WARNING: please use MorganGenerator\n",
            "[22:07:49] DEPRECATION WARNING: please use MorganGenerator\n",
            "[22:07:49] DEPRECATION WARNING: please use MorganGenerator\n",
            "[22:07:49] DEPRECATION WARNING: please use MorganGenerator\n",
            "[22:07:49] DEPRECATION WARNING: please use MorganGenerator\n",
            "[22:07:49] DEPRECATION WARNING: please use MorganGenerator\n",
            "[22:07:49] DEPRECATION WARNING: please use MorganGenerator\n",
            "[22:07:49] DEPRECATION WARNING: please use MorganGenerator\n",
            "[22:07:49] DEPRECATION WARNING: please use MorganGenerator\n",
            "[22:07:49] DEPRECATION WARNING: please use MorganGenerator\n",
            "[22:07:49] DEPRECATION WARNING: please use MorganGenerator\n",
            "[22:07:49] DEPRECATION WARNING: please use MorganGenerator\n",
            "[22:07:49] DEPRECATION WARNING: please use MorganGenerator\n"
          ]
        }
      ],
      "source": [
        "# import ast\n",
        "# from google.colab import userdata\n",
        "\n",
        "API_KEY = userdata.get('API_KEY')\n",
        "# print(API_KEY)\n",
        "\n",
        "headers = {\n",
        "    \"Authorization\": f\"Bearer {API_KEY}\",\n",
        "    \"Accept\": \"application/json\",\n",
        "}\n",
        "\n",
        "invoke_url = \"https://health.api.nvidia.com/v1/biology/nvidia/molmim/generate\"\n",
        "\n",
        "session = requests.Session()\n",
        "\n",
        "# Loop through each minimum similarity value\n",
        "for min_sim in min_sims:\n",
        "    # Create a dictionary to store the results for this min_sim\n",
        "    min_sim_results = {'smiles': [], 'num_smiles': [], 'tanimoto_similarity': [], 'qed_score': []}\n",
        "\n",
        "    # Create the request payload\n",
        "    payload = {\n",
        "      \"smi\": smis,\n",
        "      \"algorithm\": \"CMA-ES\",\n",
        "      \"num_molecules\": 10,\n",
        "      \"property_name\": \"QED\",\n",
        "      \"minimize\": False,\n",
        "      \"min_similarity\": min_sim,\n",
        "      \"particles\": 20,\n",
        "      \"iterations\": 2,\n",
        "    }\n",
        "\n",
        "    # Send the request and get the response\n",
        "    response = session.post(invoke_url, headers=headers, json=payload)\n",
        "    response.raise_for_status()\n",
        "    response_json = response.json()\n",
        "    print(f\"*************** min_sim: {min_sim} ********************\")\n",
        "    print(f\"response_json: \\n\"\n",
        "          f\"{response_json}\")\n",
        "\n",
        "    # Extract the generated SMILES\n",
        "    gen_smiles_list = [i['sample'] for i in ast.literal_eval(response_json['molecules'])]\n",
        "    print(f\"gen_smiles_list: \\n\"\n",
        "          f\"{gen_smiles_list}\")\n",
        "    # get the molecule objects out of valid SMILES\n",
        "    valid_mol_list = [mol for smiles in gen_smiles_list if (mol := Chem.MolFromSmiles(smiles))]\n",
        "    # convert to canonical SMILES & deduplicate\n",
        "    canonical_smiles = set()\n",
        "    for mol in valid_mol_list:\n",
        "        canonical_smi = Chem.MolToSmiles(mol, canonical=True)\n",
        "        canonical_smiles.add(canonical_smi)\n",
        "    canonical_smiles_list = list(canonical_smiles)\n",
        "    print(f\"canonical_smiles_list: \\n\"\n",
        "          f\"{canonical_smiles_list}\")\n",
        "\n",
        "    # Calculate Tanimoto similarity and QED score for each valid SMILES\n",
        "    for smiles in canonical_smiles_list:\n",
        "        tanimoto = tanimoto_similarity(smiles, smis)\n",
        "        mol = Chem.MolFromSmiles(smiles)\n",
        "        qed_score = qed(mol)\n",
        "        min_sim_results['tanimoto_similarity'].append(tanimoto)\n",
        "        min_sim_results['qed_score'].append(qed_score)\n",
        "\n",
        "    # Update min_sim_results - get the average of Tanimoto and QED scores, store generated SMILES\n",
        "    min_sim_results['tanimoto_similarity'] = np.mean(min_sim_results['tanimoto_similarity'])\n",
        "    min_sim_results['qed_score'] = np.mean(min_sim_results['qed_score'])\n",
        "    min_sim_results['num_smiles'] = len(canonical_smiles_list)\n",
        "    min_sim_results['smiles'] = canonical_smiles_list\n",
        "\n",
        "    # Store the results for this min_sim\n",
        "    results[min_sim] = min_sim_results"
      ],
      "id": "5dac62d8-a15d-4d3d-a692-861ec4ad298e"
    },
    {
      "cell_type": "code",
      "source": [
        "# Create a Pandas dataframe from the results\n",
        "# df = pd.DataFrame(results).T.reset_index()\n",
        "# Specify the keys you want to include\n",
        "keys_to_include = ['num_smiles', 'tanimoto_similarity', 'qed_score']\n",
        "# Create the DataFrame, selecting only the specified keys from each inner dictionary\n",
        "df = pd.DataFrame({k: {key: val[key] for key in keys_to_include} for k, val in results.items()}).T.reset_index()\n",
        "print(df)"
      ],
      "metadata": {
        "colab": {
          "base_uri": "https://localhost:8080/"
        },
        "id": "yY1e9uhKUZS8",
        "outputId": "e9d74fa6-4c9c-4fbe-ed1e-6797d7b216cc"
      },
      "id": "yY1e9uhKUZS8",
      "execution_count": 7,
      "outputs": [
        {
          "output_type": "stream",
          "name": "stdout",
          "text": [
            "   index  num_smiles  tanimoto_similarity  qed_score\n",
            "0    0.1        10.0             0.317729   0.691499\n",
            "1    0.4        10.0             0.420298   0.648199\n",
            "2    0.7         8.0             0.610464   0.583376\n"
          ]
        }
      ]
    },
    {
      "cell_type": "markdown",
      "source": [
        "The following block creates three plots to visualize the results of the script. The first plot shows the number of valid SMILES strings generated at each minimum similarity threshold. The second plot shows the average Tanimoto similarity of the generated molecules at each minimum similarity threshold. The third plot shows the average QED score of the generated molecules at each minimum similarity threshold. The plots are arranged in a single figure with three subplots, and the figure is displayed using the `plt.show()` function."
      ],
      "metadata": {
        "id": "aUULfdbeIsD6"
      },
      "id": "aUULfdbeIsD6"
    },
    {
      "cell_type": "code",
      "execution_count": 8,
      "metadata": {
        "id": "159b0b27-9a27-47fb-b815-c28284f8bcd1",
        "outputId": "5b349718-904c-4189-8e2f-82c15822104d",
        "colab": {
          "base_uri": "https://localhost:8080/",
          "height": 276
        }
      },
      "outputs": [
        {
          "output_type": "display_data",
          "data": {
            "text/plain": [
              "<Figure size 2000x400 with 3 Axes>"
            ],
            "image/png": "[encoded data removed]"
          },
          "metadata": {}
        }
      ],
      "source": [
        "# Create the plots\n",
        "plt.figure(figsize=(20, 4))\n",
        "\n",
        "# Plot the number of valid SMILES strings at each min_sim\n",
        "plt.subplot(1, 3, 1)\n",
        "plt.plot(df['index'], df['num_smiles'], linestyle='-', marker='o')\n",
        "plt.xlabel('Minimum similarity')\n",
        "plt.ylabel('Number of valid SMILES strings')\n",
        "plt.title('Number of valid SMILES strings at each minimum similarity')\n",
        "\n",
        "# Plot the average Tanimoto similarity at each radius\n",
        "plt.subplot(1, 3, 2)\n",
        "plt.plot(df['index'], df['tanimoto_similarity'], linestyle='-', marker='o')\n",
        "plt.xlabel('Minimum similarity')\n",
        "plt.ylabel('Average Tanimoto similarity')\n",
        "plt.title('Average Tanimoto similarity at each minimum similarity')\n",
        "\n",
        "# Plot the average QED score at each radius\n",
        "plt.subplot(1, 3, 3)\n",
        "plt.plot(df['index'], df['qed_score'], linestyle='-', marker='o')\n",
        "plt.xlabel('Minimum similarity')\n",
        "plt.ylabel('Average QED score')\n",
        "plt.title('Average QED score at each minimum similarity')\n",
        "\n",
        "plt.tight_layout()\n",
        "plt.show()"
      ],
      "id": "159b0b27-9a27-47fb-b815-c28284f8bcd1"
    },
    {
      "cell_type": "markdown",
      "id": "4cc6a64873424bcd",
      "metadata": {
        "id": "4cc6a64873424bcd"
      },
      "source": [
        "<!-- ## 2.7 [Optional] Save the generated molecules -->"
      ]
    },
    {
      "cell_type": "code",
      "source": [
        "# def prepare_output_directory(output):\n",
        "#     \"\"\"\n",
        "#     Prepare the output directory\n",
        "#     output: str, the output directory\n",
        "#     return: None\n",
        "#     \"\"\"\n",
        "#     # overwrite the output directory\n",
        "#     # delete the output directory if it exists\n",
        "#     if os.path.exists(output):\n",
        "#         shutil.rmtree(output)\n",
        "#     os.makedirs(output)"
      ],
      "metadata": {
        "id": "2Ffl6DKNU5e9"
      },
      "id": "2Ffl6DKNU5e9",
      "execution_count": 9,
      "outputs": []
    },
    {
      "cell_type": "code",
      "execution_count": 10,
      "id": "53a050ad76b2fd83",
      "metadata": {
        "ExecuteTime": {
          "end_time": "2024-04-25T03:34:19.886619Z",
          "start_time": "2024-04-25T03:34:19.879373Z"
        },
        "id": "53a050ad76b2fd83"
      },
      "outputs": [],
      "source": [
        "# # overwrite the output directory\n",
        "# output_dir = \"/content/output/molmim_result\"\n",
        "# prepare_output_directory(output_dir)\n",
        "\n",
        "# output_fp = os.path.join(output_dir, \"generated_molecules.pkl\")\n",
        "# with open(output_fp, \"wb\") as f:\n",
        "#     pickle.dump(results, f)"
      ]
    },
    {
      "cell_type": "markdown",
      "id": "5daae12496a8de6c",
      "metadata": {
        "id": "5daae12496a8de6c"
      },
      "source": [
        "## 2.8 Preprocess the generated molecules for diffdock"
      ]
    },
    {
      "cell_type": "code",
      "execution_count": 11,
      "id": "31e3f69566064e16",
      "metadata": {
        "ExecuteTime": {
          "end_time": "2024-04-25T03:34:21.523710Z",
          "start_time": "2024-04-25T03:34:21.519874Z"
        },
        "colab": {
          "base_uri": "https://localhost:8080/"
        },
        "id": "31e3f69566064e16",
        "outputId": "35be388a-ceb0-4950-aca9-9fdbddb2e7e1"
      },
      "outputs": [
        {
          "output_type": "stream",
          "name": "stdout",
          "text": [
            "['COc1ccc(NC(=O)COC(=O)c2cccc(NC(=O)c3ccc(F)cc3)c2)cc1', 'COc1cc(F)ccc1NS(=O)(=O)c1ccc(F)c(C(F)(F)F)c1', 'O=C(CNS(=O)(=O)c1ccc(F)c(F)c1)Nc1cn(CC(F)(F)F)nn1', 'C[C@@H]1CCCN(S(=O)(=O)c2cccc(C(=O)Nc3cc(F)cc(OC(F)(F)F)c3)c2)C1', 'O=S(=O)(Nc1cccc(OC(F)(F)F)c1)c1cc(F)cc(C(F)(F)F)c1', 'COc1ccc(NC(=O)c2ccc(C(F)(F)F)cc2)cc1S(=O)(=O)Nc1ccccc1', 'O=C(Nc1cccc(S(=O)(=O)Nc2ccc(OC(F)(F)F)cc2)c1)c1cccc(F)c1', 'O=C(Nc1cccc(S(=O)(=O)Nc2cccc(OC(F)(F)F)c2)c1)c1cccc(F)c1', 'O=C(Nc1ccc(S(=O)(=O)Nc2ccccc2)cc1)c1ccc(F)c(F)c1']\n"
          ]
        }
      ],
      "source": [
        "# choose the first N molecules from the individual runs to use for docking,\n",
        "# for demo purpose we will set it to 3 for now.\n",
        "N_molecules_for_docking = 3\n",
        "\n",
        "# for each sublists, choose the first N molecules\n",
        "molecules = [\n",
        "    molecule\n",
        "    for min_sim_key, min_sim_val in results.items()\n",
        "    for molecule in min_sim_val['smiles'][:N_molecules_for_docking]\n",
        "]\n",
        "print(molecules)"
      ]
    },
    {
      "cell_type": "markdown",
      "id": "8aab483c-01c0-4f70-9002-f1afa38a8a79",
      "metadata": {
        "id": "8aab483c-01c0-4f70-9002-f1afa38a8a79"
      },
      "source": []
    },
    {
      "cell_type": "code",
      "source": [
        "# # convert to SDF\n",
        "# output_files = []\n",
        "# for i, smiles in enumerate(valid_canonical_smiles):\n",
        "#     mol = Chem.MolFromSmiles(smiles)\n",
        "#     mol = Chem.AddHs(mol)\n",
        "#     AllChem.EmbedMolecule(mol)\n",
        "#     AllChem.UFFOptimizeMolecule(mol)\n",
        "\n",
        "#     # save the clean file to molmim_result\n",
        "\n",
        "#     w = Chem.SDWriter(f\"{output_dir}/molecule_{i}.sdf\")\n",
        "#     w.write(mol)\n",
        "#     w.close()\n",
        "#     print(f\"Converted SMILES to SDF: {smiles}\")\n",
        "#     output_files.append(f\"{output_dir}/molecule_{i}.sdf\")\n",
        "\n",
        "# return output_files"
      ],
      "metadata": {
        "id": "uNFaxMeBX2hf"
      },
      "id": "uNFaxMeBX2hf",
      "execution_count": 12,
      "outputs": []
    },
    {
      "cell_type": "code",
      "source": [
        "def prepare_output_directory(output):\n",
        "    \"\"\"\n",
        "    Prepare the output directory\n",
        "    output: str, the output directory\n",
        "    return: None\n",
        "    \"\"\"\n",
        "    # overwrite the output directory\n",
        "    # delete the output directory if it exists\n",
        "    if os.path.exists(output):\n",
        "        shutil.rmtree(output)\n",
        "    os.makedirs(output)"
      ],
      "metadata": {
        "id": "6h8SdGb3wFB2"
      },
      "id": "6h8SdGb3wFB2",
      "execution_count": 13,
      "outputs": []
    },
    {
      "cell_type": "code",
      "execution_count": 14,
      "id": "c9e1ca7ecc908fc",
      "metadata": {
        "ExecuteTime": {
          "end_time": "2024-04-25T03:34:22.727507Z",
          "start_time": "2024-04-25T03:34:22.375707Z"
        },
        "colab": {
          "base_uri": "https://localhost:8080/"
        },
        "id": "c9e1ca7ecc908fc",
        "outputId": "a37e932c-7c21-42f2-e80e-d968bb341cf7"
      },
      "outputs": [
        {
          "output_type": "stream",
          "name": "stdout",
          "text": [
            "Converted SMILES to SDF: COc1ccc(NC(=O)COC(=O)c2cccc(NC(=O)c3ccc(F)cc3)c2)cc1\n",
            "Converted SMILES to SDF: COc1cc(F)ccc1NS(=O)(=O)c1ccc(F)c(C(F)(F)F)c1\n",
            "Converted SMILES to SDF: O=C(CNS(=O)(=O)c1ccc(F)c(F)c1)Nc1cn(CC(F)(F)F)nn1\n",
            "Converted SMILES to SDF: C[C@@H]1CCCN(S(=O)(=O)c2cccc(C(=O)Nc3cc(F)cc(OC(F)(F)F)c3)c2)C1\n",
            "Converted SMILES to SDF: O=S(=O)(Nc1cccc(OC(F)(F)F)c1)c1cc(F)cc(C(F)(F)F)c1\n",
            "Converted SMILES to SDF: COc1ccc(NC(=O)c2ccc(C(F)(F)F)cc2)cc1S(=O)(=O)Nc1ccccc1\n",
            "Converted SMILES to SDF: O=C(Nc1cccc(S(=O)(=O)Nc2ccc(OC(F)(F)F)cc2)c1)c1cccc(F)c1\n",
            "Converted SMILES to SDF: O=C(Nc1cccc(S(=O)(=O)Nc2cccc(OC(F)(F)F)c2)c1)c1cccc(F)c1\n",
            "Converted SMILES to SDF: O=C(Nc1ccc(S(=O)(=O)Nc2ccccc2)cc1)c1ccc(F)c(F)c1\n",
            "['/content/output/molmim_result/clean_mols/molecule_0.sdf', '/content/output/molmim_result/clean_mols/molecule_1.sdf', '/content/output/molmim_result/clean_mols/molecule_2.sdf', '/content/output/molmim_result/clean_mols/molecule_3.sdf', '/content/output/molmim_result/clean_mols/molecule_4.sdf', '/content/output/molmim_result/clean_mols/molecule_5.sdf', '/content/output/molmim_result/clean_mols/molecule_6.sdf', '/content/output/molmim_result/clean_mols/molecule_7.sdf', '/content/output/molmim_result/clean_mols/molecule_8.sdf']\n"
          ]
        }
      ],
      "source": [
        "# converts SMILES to SDF (generate 1 conformer for each smile)\n",
        "# overwrite output dir\n",
        "output_dir = \"/content/output/molmim_result\"\n",
        "output_dir_clean = os.path.join(output_dir, \"clean_mols\")\n",
        "prepare_output_directory(output_dir_clean)\n",
        "\n",
        "# convert to SDF\n",
        "output_sdf_files = []\n",
        "for i, smiles in enumerate(molecules):\n",
        "    mol = Chem.MolFromSmiles(smiles)\n",
        "    mol = Chem.AddHs(mol)\n",
        "    AllChem.EmbedMolecule(mol)\n",
        "    AllChem.UFFOptimizeMolecule(mol)\n",
        "\n",
        "    # save the clean file\n",
        "    path = f\"{output_dir_clean}/molecule_{i}.sdf\"\n",
        "    w = Chem.SDWriter(path)\n",
        "    w.write(mol)\n",
        "    w.close()\n",
        "    print(f\"Converted SMILES to SDF: {smiles}\")\n",
        "    output_sdf_files.append(path)\n",
        "\n",
        "# here are the paths to the generated molecules in SDF format, which can be used for docking\n",
        "print(output_sdf_files)"
      ]
    },
    {
      "cell_type": "markdown",
      "source": [
        "# **Download SDF files**"
      ],
      "metadata": {
        "id": "hv5Xxa94xYs1"
      },
      "id": "hv5Xxa94xYs1"
    },
    {
      "cell_type": "code",
      "source": [
        "output_dir_clean"
      ],
      "metadata": {
        "colab": {
          "base_uri": "https://localhost:8080/",
          "height": 36
        },
        "id": "Y0yCom6z-Hp9",
        "outputId": "55580214-e29c-473d-8fb0-bb06dfac62c6"
      },
      "id": "Y0yCom6z-Hp9",
      "execution_count": 15,
      "outputs": [
        {
          "output_type": "execute_result",
          "data": {
            "text/plain": [
              "'/content/output/molmim_result/clean_mols'"
            ],
            "application/vnd.google.colaboratory.intrinsic+json": {
              "type": "string"
            }
          },
          "metadata": {},
          "execution_count": 15
        }
      ]
    },
    {
      "cell_type": "code",
      "source": [
        "# Step 1: Zip the directory\n",
        "zip_filename = \"clean_mols.zip\"\n",
        "!cd {output_dir_clean} && zip -r {zip_filename} ."
      ],
      "metadata": {
        "colab": {
          "base_uri": "https://localhost:8080/"
        },
        "id": "TLp3MLgmI1AZ",
        "outputId": "c2759b9a-35ff-4f24-d553-310cc1424bc9"
      },
      "id": "TLp3MLgmI1AZ",
      "execution_count": 20,
      "outputs": [
        {
          "output_type": "stream",
          "name": "stdout",
          "text": [
            "  adding: molecule_6.sdf (deflated 78%)\n",
            "  adding: molecule_0.sdf (deflated 78%)\n",
            "  adding: .ipynb_checkpoints/ (stored 0%)\n",
            "  adding: molecule_2.sdf (deflated 78%)\n",
            "  adding: molecule_4.sdf (deflated 77%)\n",
            "  adding: molecule_1.sdf (deflated 78%)\n",
            "  adding: molecule_3.sdf (deflated 78%)\n",
            "  adding: molecule_5.sdf (deflated 78%)\n",
            "  adding: molecule_7.sdf (deflated 78%)\n",
            "  adding: molecule_8.sdf (deflated 78%)\n"
          ]
        }
      ]
    },
    {
      "cell_type": "code",
      "source": [
        "# Step 2: Download the zipped file\n",
        "from google.colab import files\n",
        "files.download(os.path.join(output_dir_clean, zip_filename))"
      ],
      "metadata": {
        "colab": {
          "base_uri": "https://localhost:8080/",
          "height": 17
        },
        "id": "8uMM4TDvx9ef",
        "outputId": "1637438f-4c77-42fd-9b57-25777a95a810"
      },
      "id": "8uMM4TDvx9ef",
      "execution_count": 21,
      "outputs": [
        {
          "output_type": "display_data",
          "data": {
            "text/plain": [
              "<IPython.core.display.Javascript object>"
            ],
            "application/javascript": [
              "\n",
              "    async function download(id, filename, size) {\n",
              "      if (!google.colab.kernel.accessAllowed) {\n",
              "        return;\n",
              "      }\n",
              "      const div = document.createElement('div');\n",
              "      const label = document.createElement('label');\n",
              "      label.textContent = `Downloading \"${filename}\": `;\n",
              "      div.appendChild(label);\n",
              "      const progress = document.createElement('progress');\n",
              "      progress.max = size;\n",
              "      div.appendChild(progress);\n",
              "      document.body.appendChild(div);\n",
              "\n",
              "      const buffers = [];\n",
              "      let downloaded = 0;\n",
              "\n",
              "      const channel = await google.colab.kernel.comms.open(id);\n",
              "      // Send a message to notify the kernel that we're ready.\n",
              "      channel.send({})\n",
              "\n",
              "      for await (const message of channel.messages) {\n",
              "        // Send a message to notify the kernel that we're ready.\n",
              "        channel.send({})\n",
              "        if (message.buffers) {\n",
              "          for (const buffer of message.buffers) {\n",
              "            buffers.push(buffer);\n",
              "            downloaded += buffer.byteLength;\n",
              "            progress.value = downloaded;\n",
              "          }\n",
              "        }\n",
              "      }\n",
              "      const blob = new Blob(buffers, {type: 'application/binary'});\n",
              "      const a = document.createElement('a');\n",
              "      a.href = window.URL.createObjectURL(blob);\n",
              "      a.download = filename;\n",
              "      div.appendChild(a);\n",
              "      a.click();\n",
              "      div.remove();\n",
              "    }\n",
              "  "
            ]
          },
          "metadata": {}
        },
        {
          "output_type": "display_data",
          "data": {
            "text/plain": [
              "<IPython.core.display.Javascript object>"
            ],
            "application/javascript": [
              "download(\"download_95d7d6d5-f465-4ba5-9774-789f0119405b\", \"clean_mols.zip\", 8858)"
            ]
          },
          "metadata": {}
        }
      ]
    }
  ],
  "metadata": {
    "kernelspec": {
      "display_name": "Python 3 (ipykernel)",
      "language": "python",
      "name": "python3"
    },
    "language_info": {
      "codemirror_mode": {
        "name": "ipython",
        "version": 3
      },
      "file_extension": ".py",
      "mimetype": "text/x-python",
      "name": "python",
      "nbconvert_exporter": "python",
      "pygments_lexer": "ipython3",
      "version": "3.11.9"
    },
    "colab": {
      "provenance": []
    }
  },
  "nbformat": 4,
  "nbformat_minor": 5
}