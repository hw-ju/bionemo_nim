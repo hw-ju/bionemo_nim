{
  "cells": [
    {
      "cell_type": "markdown",
      "id": "d05ea3a8067c2cea",
      "metadata": {
        "id": "d05ea3a8067c2cea"
      },
      "source": [
        "# Step 2. Controlled generation of novel molecules using MolMIM\n",
        "This tutorial demonstrates how to optimize exploration of the [MolMIM](https://arxiv.org/abs/2208.09016) model's latent space to generate molecules\n",
        "with properties of interest by using the [CMA-ES](https://en.wikipedia.org/wiki/CMA-ES) genetic optimization algorithm. The basic steps in one iteration of the optimization are:\n",
        "\n",
        "1. Decode latent representations into smiles strings\n",
        "2. Score generated smiles strings based on the desired oracle function\n",
        "3. Update the CMA-ES algorithm with the smiles/score pairing\n",
        "4. Ask the CMA-ES algorithm for a new set of latent space representations to sample.\n",
        "\n",
        "We won’t manually perform the steps above, as an API call to the MolMIM NIM will handle all of them."
      ]
    },
    {
      "cell_type": "markdown",
      "source": [
        "## 2.1 Set up environment"
      ],
      "metadata": {
        "id": "cDJ3OPSy_By6"
      },
      "id": "cDJ3OPSy_By6"
    },
    {
      "cell_type": "code",
      "source": [
        "!pip install rdkit python-dotenv pandas numpy matplotlib loguru py3dmol"
      ],
      "metadata": {
        "id": "rL9_wQUn1NNS"
      },
      "id": "rL9_wQUn1NNS",
      "execution_count": null,
      "outputs": []
    },
    {
      "cell_type": "code",
      "execution_count": null,
      "id": "8fff11ae32bf2dfc",
      "metadata": {
        "ExecuteTime": {
          "end_time": "2024-04-25T03:32:47.008880Z",
          "start_time": "2024-04-25T03:32:47.003814Z"
        },
        "jupyter": {
          "outputs_hidden": false
        },
        "id": "8fff11ae32bf2dfc"
      },
      "outputs": [],
      "source": [
        "import pickle\n",
        "from typing import List\n",
        "import numpy as np\n",
        "\n",
        "from rdkit.Chem.QED import qed as rdkit_qed\n",
        "from rdkit import Chem\n",
        "\n",
        "import matplotlib.pyplot as plt\n",
        "from IPython.display import display, clear_output\n",
        "\n",
        "from rdkit.Chem.QED import qed\n",
        "from rdkit.Chem import AllChem\n",
        "from rdkit.Chem.AllChem import GetMorganFingerprintAsBitVect\n",
        "from rdkit.DataStructs import TanimotoSimilarity\n",
        "import ast\n",
        "from google.colab import userdata\n",
        "import os, shutil, requests\n",
        "import pandas as pd"
      ]
    },
    {
      "cell_type": "markdown",
      "id": "d14efc4952c347f5",
      "metadata": {
        "id": "d14efc4952c347f5"
      },
      "source": [
        "## 2.2 Set up the starting molecule"
      ]
    },
    {
      "cell_type": "code",
      "execution_count": null,
      "id": "9cba10a37df62745",
      "metadata": {
        "ExecuteTime": {
          "end_time": "2024-04-25T03:32:52.318267Z",
          "start_time": "2024-04-25T03:32:52.307150Z"
        },
        "id": "9cba10a37df62745"
      },
      "outputs": [],
      "source": [
        "smis = \"O=C(Nc1cccc(S(=O)(=O)Nc2ccc(OC(F)(F)F)cc2)c1)c1cc(F)cc(F)c1\"\n",
        "\n",
        "mol = Chem.MolFromSmiles(smis)\n",
        "qed_score = rdkit_qed(mol)\n",
        "print(f\"Original QED: {qed_score}\")\n",
        "mol"
      ]
    },
    {
      "cell_type": "markdown",
      "source": [
        "## 2.3 Guided Molecular Generation with CMA-ES\n",
        "\n",
        "In contrast to the random sampling of the latent space described (which is available when you self-host MolMIM NIM, see [doc](https://docs.nvidia.com/nim/bionemo/molmim/latest/endpoints.html#)), we can use a black box optimizer, called CMA-ES, to perform guided optimization of the a molecule's property through sampling of the latent space. In the blocks below, we use CMA-ES to optimize the QED score of the generated molecules while preseving a level of similary to the seed molecule, PDB ID SZD.\n",
        "\n",
        "For demo purpose, we will generate molecules with a list of minimum similarities, ranging from 0.1 to 0.7 with 3 evenly spaced values."
      ],
      "metadata": {
        "id": "PPTCGMX4q4e5"
      },
      "id": "PPTCGMX4q4e5"
    },
    {
      "cell_type": "code",
      "source": [
        "# Create a dictionary to store the results\n",
        "results = {}\n",
        "\n",
        "# Create a list of minimum similarities\n",
        "num_min_sims = 3\n",
        "min_sims = np.linspace(0.1, 0.7, num_min_sims)"
      ],
      "metadata": {
        "id": "SdRtp1QZruhZ"
      },
      "id": "SdRtp1QZruhZ",
      "execution_count": null,
      "outputs": []
    },
    {
      "cell_type": "code",
      "source": [
        "def tanimoto_similarity(smiles, reference: str):\n",
        "    # Get fingerprint params\n",
        "    fingerprint_radius_param = 2\n",
        "    fingerprint_nbits = 2048\n",
        "\n",
        "    # Handle the reference molecule\n",
        "    reference_mol = Chem.MolFromSmiles(reference)\n",
        "    reference_fingerprint = GetMorganFingerprintAsBitVect(\n",
        "        reference_mol, radius=fingerprint_radius_param, nBits=fingerprint_nbits\n",
        "    )\n",
        "\n",
        "    # Validate the other molecule\n",
        "    mol = Chem.MolFromSmiles(smiles)\n",
        "    if mol is None:\n",
        "        return 0\n",
        "\n",
        "    fingerprint = GetMorganFingerprintAsBitVect(mol, radius=fingerprint_radius_param, nBits=fingerprint_nbits)\n",
        "\n",
        "    # Calculate and return the Tanimoto similarity\n",
        "    return TanimotoSimilarity(fingerprint, reference_fingerprint)"
      ],
      "metadata": {
        "id": "SiEdsIKmHyBy"
      },
      "id": "SiEdsIKmHyBy",
      "execution_count": null,
      "outputs": []
    },
    {
      "cell_type": "markdown",
      "source": [
        "Set up URL and API Key"
      ],
      "metadata": {
        "id": "AbR4q65HB4zz"
      },
      "id": "AbR4q65HB4zz"
    },
    {
      "cell_type": "code",
      "source": [
        "API_KEY = userdata.get('API_KEY')\n",
        "# print(API_KEY)\n",
        "\n",
        "headers = {\n",
        "    \"Authorization\": f\"Bearer {API_KEY}\",\n",
        "    \"Accept\": \"application/json\",\n",
        "}\n",
        "\n",
        "invoke_url = \"https://health.api.nvidia.com/v1/biology/nvidia/molmim/generate\"\n",
        "\n",
        "session = requests.Session()"
      ],
      "metadata": {
        "id": "mDEtgm1SAVzr"
      },
      "id": "mDEtgm1SAVzr",
      "execution_count": null,
      "outputs": []
    },
    {
      "cell_type": "markdown",
      "source": [
        "The following block is the main loop, where it iterates over each minimum similarity value in the `min_sims` list. For each minimum similarity, it generates molecules using the CMA-ES algorithm, clean up the generated molecules, calculates the Tanimoto similarity and QED score for each SMILES string, and stores the results. The results are stored in a dictionary called `results`, where the keys are the minimum similarity values and the values are dictionaries containing the valid SMILES strings, how many of them, average Tanimoto similarity and average QED score."
      ],
      "metadata": {
        "id": "KjIvgwM1sdCk"
      },
      "id": "KjIvgwM1sdCk"
    },
    {
      "cell_type": "code",
      "execution_count": null,
      "metadata": {
        "id": "5dac62d8-a15d-4d3d-a692-861ec4ad298e"
      },
      "outputs": [],
      "source": [
        "# Loop through each minimum similarity value\n",
        "for min_sim in min_sims:\n",
        "    # Create a dictionary to store the results for this min_sim\n",
        "    min_sim_results = {'smiles': [], 'num_smiles': [], 'tanimoto_similarity': [], 'qed_score': []}\n",
        "\n",
        "    # Create the request payload\n",
        "    payload = {\n",
        "      \"smi\": smis,\n",
        "      \"algorithm\": \"CMA-ES\",\n",
        "      \"num_molecules\": 10,\n",
        "      \"property_name\": \"QED\",\n",
        "      \"minimize\": False,\n",
        "      \"min_similarity\": min_sim,\n",
        "      \"particles\": 20,\n",
        "      \"iterations\": 2,\n",
        "    }\n",
        "\n",
        "    # Send the request and get the response\n",
        "    response = session.post(invoke_url, headers=headers, json=payload)\n",
        "    response.raise_for_status()\n",
        "    response_json = response.json()\n",
        "    print(f\"*************** min_sim: {min_sim} ********************\")\n",
        "    print(f\"response_json: \\n\"\n",
        "          f\"{response_json}\")\n",
        "\n",
        "    # Extract the generated SMILES\n",
        "    gen_smiles_list = [i['sample'] for i in ast.literal_eval(response_json['molecules'])]\n",
        "    print(f\"gen_smiles_list: \\n\"\n",
        "          f\"{gen_smiles_list}\")\n",
        "    # Get the molecule objects out of valid SMILES\n",
        "    valid_mol_list = [mol for smiles in gen_smiles_list if (mol := Chem.MolFromSmiles(smiles))]\n",
        "    # Convert to canonical SMILES & deduplicate\n",
        "    canonical_smiles = set()\n",
        "    for mol in valid_mol_list:\n",
        "        canonical_smi = Chem.MolToSmiles(mol, canonical=True)\n",
        "        canonical_smiles.add(canonical_smi)\n",
        "    canonical_smiles_list = list(canonical_smiles)\n",
        "    print(f\"canonical_smiles_list: \\n\"\n",
        "          f\"{canonical_smiles_list}\")\n",
        "\n",
        "    # Calculate Tanimoto similarity and QED score for each valid SMILES\n",
        "    for smiles in canonical_smiles_list:\n",
        "        tanimoto = tanimoto_similarity(smiles, smis)\n",
        "        mol = Chem.MolFromSmiles(smiles)\n",
        "        qed_score = qed(mol)\n",
        "        min_sim_results['tanimoto_similarity'].append(tanimoto)\n",
        "        min_sim_results['qed_score'].append(qed_score)\n",
        "\n",
        "    # Update min_sim_results - get the average of Tanimoto and QED scores, store generated SMILES\n",
        "    min_sim_results['tanimoto_similarity'] = np.mean(min_sim_results['tanimoto_similarity'])\n",
        "    min_sim_results['qed_score'] = np.mean(min_sim_results['qed_score'])\n",
        "    min_sim_results['num_smiles'] = len(canonical_smiles_list)\n",
        "    min_sim_results['smiles'] = canonical_smiles_list\n",
        "\n",
        "    # Store the results for this min_sim\n",
        "    results[min_sim] = min_sim_results"
      ],
      "id": "5dac62d8-a15d-4d3d-a692-861ec4ad298e"
    },
    {
      "cell_type": "markdown",
      "source": [
        "After the loop, convert the results into a Pandas dataframe for further analysis."
      ],
      "metadata": {
        "id": "oXDC6SkWBy6b"
      },
      "id": "oXDC6SkWBy6b"
    },
    {
      "cell_type": "code",
      "source": [
        "keys_to_include = ['num_smiles', 'tanimoto_similarity', 'qed_score']\n",
        "# Create the DataFrame, selecting only the specified keys from each inner dictionary\n",
        "df = pd.DataFrame({k: {key: val[key] for key in keys_to_include} for k, val in results.items()}).T.reset_index()\n",
        "print(df)"
      ],
      "metadata": {
        "id": "yY1e9uhKUZS8"
      },
      "id": "yY1e9uhKUZS8",
      "execution_count": null,
      "outputs": []
    },
    {
      "cell_type": "markdown",
      "source": [
        "The following block creates three plots to visualize the results of the script. They show the number of valid SMILES strings generated, the average Tanimoto similarity of the generated molecule and the average Tanimoto similarity of the generated molecules at each minimum similarity threshold, respectively."
      ],
      "metadata": {
        "id": "aUULfdbeIsD6"
      },
      "id": "aUULfdbeIsD6"
    },
    {
      "cell_type": "code",
      "execution_count": null,
      "metadata": {
        "id": "159b0b27-9a27-47fb-b815-c28284f8bcd1"
      },
      "outputs": [],
      "source": [
        "# Create the plots\n",
        "plt.figure(figsize=(20, 4))\n",
        "\n",
        "# Plot the number of valid SMILES strings at each min_sim\n",
        "plt.subplot(1, 3, 1)\n",
        "plt.plot(df['index'], df['num_smiles'], linestyle='-', marker='o')\n",
        "plt.xlabel('Minimum similarity')\n",
        "plt.ylabel('Number of valid SMILES strings')\n",
        "plt.title('Number of valid SMILES strings at each minimum similarity')\n",
        "\n",
        "# Plot the average Tanimoto similarity at each radius\n",
        "plt.subplot(1, 3, 2)\n",
        "plt.plot(df['index'], df['tanimoto_similarity'], linestyle='-', marker='o')\n",
        "plt.xlabel('Minimum similarity')\n",
        "plt.ylabel('Average Tanimoto similarity')\n",
        "plt.title('Average Tanimoto similarity at each minimum similarity')\n",
        "\n",
        "# Plot the average QED score at each radius\n",
        "plt.subplot(1, 3, 3)\n",
        "plt.plot(df['index'], df['qed_score'], linestyle='-', marker='o')\n",
        "plt.xlabel('Minimum similarity')\n",
        "plt.ylabel('Average QED score')\n",
        "plt.title('Average QED score at each minimum similarity')\n",
        "\n",
        "plt.tight_layout()\n",
        "plt.show()"
      ],
      "id": "159b0b27-9a27-47fb-b815-c28284f8bcd1"
    },
    {
      "cell_type": "markdown",
      "id": "5daae12496a8de6c",
      "metadata": {
        "id": "5daae12496a8de6c"
      },
      "source": [
        "## 2.4 Preprocess the generated molecules for DiffDock ##"
      ]
    },
    {
      "cell_type": "code",
      "execution_count": null,
      "id": "31e3f69566064e16",
      "metadata": {
        "ExecuteTime": {
          "end_time": "2024-04-25T03:34:21.523710Z",
          "start_time": "2024-04-25T03:34:21.519874Z"
        },
        "id": "31e3f69566064e16"
      },
      "outputs": [],
      "source": [
        "# choose the first N molecules from the individual runs to use for docking,\n",
        "# for demo purpose we will set it to 3 for now.\n",
        "N_molecules_for_docking = 3\n",
        "\n",
        "# for each sublists, choose the first N molecules\n",
        "molecules = [\n",
        "    molecule\n",
        "    for min_sim_key, min_sim_val in results.items()\n",
        "    for molecule in min_sim_val['smiles'][:N_molecules_for_docking]\n",
        "]\n",
        "print(molecules)"
      ]
    },
    {
      "cell_type": "code",
      "source": [
        "def prepare_output_directory(output):\n",
        "    \"\"\"\n",
        "    Prepare the output directory\n",
        "    output: str, the output directory\n",
        "    return: None\n",
        "    \"\"\"\n",
        "    # overwrite the output directory\n",
        "    if os.path.exists(output):\n",
        "        shutil.rmtree(output)\n",
        "    os.makedirs(output)"
      ],
      "metadata": {
        "id": "6h8SdGb3wFB2"
      },
      "id": "6h8SdGb3wFB2",
      "execution_count": null,
      "outputs": []
    },
    {
      "cell_type": "markdown",
      "source": [
        "Convert SMILES to SDF (generate 1 conformer for each smile)"
      ],
      "metadata": {
        "id": "KNsHYpSXCwKr"
      },
      "id": "KNsHYpSXCwKr"
    },
    {
      "cell_type": "code",
      "execution_count": null,
      "id": "c9e1ca7ecc908fc",
      "metadata": {
        "ExecuteTime": {
          "end_time": "2024-04-25T03:34:22.727507Z",
          "start_time": "2024-04-25T03:34:22.375707Z"
        },
        "id": "c9e1ca7ecc908fc"
      },
      "outputs": [],
      "source": [
        "output_dir = \"/content/output/molmim_result\"\n",
        "output_dir_clean = os.path.join(output_dir, \"clean_mols\")\n",
        "prepare_output_directory(output_dir_clean)\n",
        "\n",
        "# convert to SDF\n",
        "output_sdf_files = []\n",
        "for i, smiles in enumerate(molecules):\n",
        "    mol = Chem.MolFromSmiles(smiles)\n",
        "    mol = Chem.AddHs(mol)\n",
        "    AllChem.EmbedMolecule(mol)\n",
        "    AllChem.UFFOptimizeMolecule(mol)\n",
        "\n",
        "    # save the clean file\n",
        "    path = f\"{output_dir_clean}/molecule_{i}.sdf\"\n",
        "    w = Chem.SDWriter(path)\n",
        "    w.write(mol)\n",
        "    w.close()\n",
        "    print(f\"Converted SMILES to SDF: {smiles}\")\n",
        "    output_sdf_files.append(path)\n",
        "\n",
        "# here are the paths to the generated molecules in SDF format, which can be used for docking\n",
        "print(output_sdf_files)"
      ]
    },
    {
      "cell_type": "markdown",
      "source": [
        "Download SDF files which need to be uploaded in Step 3 - using DiffDock to predict docking poses"
      ],
      "metadata": {
        "id": "hv5Xxa94xYs1"
      },
      "id": "hv5Xxa94xYs1"
    },
    {
      "cell_type": "code",
      "source": [
        "# Step 1: Zip the directory\n",
        "zip_filename = \"clean_mols.zip\"\n",
        "!cd {output_dir_clean} && zip -r {zip_filename} ."
      ],
      "metadata": {
        "id": "TLp3MLgmI1AZ"
      },
      "id": "TLp3MLgmI1AZ",
      "execution_count": null,
      "outputs": []
    },
    {
      "cell_type": "code",
      "source": [
        "# Step 2: Download the zipped file\n",
        "from google.colab import files\n",
        "files.download(os.path.join(output_dir_clean, zip_filename))"
      ],
      "metadata": {
        "id": "8uMM4TDvx9ef"
      },
      "id": "8uMM4TDvx9ef",
      "execution_count": null,
      "outputs": []
    }
  ],
  "metadata": {
    "kernelspec": {
      "display_name": "Python 3 (ipykernel)",
      "language": "python",
      "name": "python3"
    },
    "language_info": {
      "codemirror_mode": {
        "name": "ipython",
        "version": 3
      },
      "file_extension": ".py",
      "mimetype": "text/x-python",
      "name": "python",
      "nbconvert_exporter": "python",
      "pygments_lexer": "ipython3",
      "version": "3.11.9"
    },
    "colab": {
      "provenance": []
    }
  },
  "nbformat": 4,
  "nbformat_minor": 5
}